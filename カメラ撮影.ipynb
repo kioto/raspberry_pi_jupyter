{
 "cells": [
  {
   "cell_type": "code",
   "execution_count": null,
   "metadata": {},
   "outputs": [],
   "source": [
    "import time\n",
    "import picamera\n",
    "import matplotlib.pyplot as plt\n",
    "import numpy as np\n",
    "import cv2\n",
    "\n",
    "# インライン表示\n",
    "%matplotlib inline\n",
    "\n",
    "FILENAME = 'my_picture.jpg'\n",
    "\n",
    "# 撮影\n",
    "with picamera.PiCamera() as camera:\n",
    "    camera.resolution = (1024, 768)\n",
    "    camera.start_preview()\n",
    "    # Camera warm-up time\n",
    "    time.sleep(2)\n",
    "    camera.capture(FILENAME)\n",
    "\n",
    "# 表示\n",
    "img = cv2.imread(FILENAME)\n",
    "plt.imshow(cv2.cvtColor(img, cv2.COLOR_BGR2RGB))\n",
    "plt.show()"
   ]
  }
 ],
 "metadata": {
  "kernelspec": {
   "display_name": "Python 3",
   "language": "python",
   "name": "python3"
  },
  "language_info": {
   "codemirror_mode": {
    "name": "ipython",
    "version": 3
   },
   "file_extension": ".py",
   "mimetype": "text/x-python",
   "name": "python",
   "nbconvert_exporter": "python",
   "pygments_lexer": "ipython3",
   "version": "3.7.3"
  }
 },
 "nbformat": 4,
 "nbformat_minor": 2
}
