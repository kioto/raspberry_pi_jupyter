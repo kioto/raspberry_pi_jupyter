{
 "cells": [
  {
   "cell_type": "code",
   "execution_count": null,
   "metadata": {},
   "outputs": [],
   "source": [
    "import RPi.GPIO as GPIO\n",
    "import time\n",
    "\n",
    "# 定数設定\n",
    "PORT = 11\n",
    "WAIT_SEC = 1  # [sec]\n",
    "NUM_OF_FLASHES = 5  # 点滅回数\n",
    "\n",
    "def init_gpio():\n",
    "    '''GPIO初期化\n",
    "    '''\n",
    "    GPIO.setmode(GPIO.BOARD)\n",
    "    GPIO.setup(PORT, GPIO.OUT)\n",
    "    \n",
    "def finalize_gpio():\n",
    "    '''GPIOの終了処理\n",
    "    '''\n",
    "    GPIO.cleanup()\n",
    "\n",
    "def led_flush(port, wait_sec, num):\n",
    "    ''' LED点滅\n",
    "    '''\n",
    "    init_gpio()\n",
    "    # 点滅\n",
    "    flag = True\n",
    "    for i in range(num*2):\n",
    "        print(flag)\n",
    "        GPIO.output(port, flag)\n",
    "        time.sleep(wait_sec)\n",
    "        flag = not flag\n",
    "        \n",
    "    finalize_gpio()\n",
    "\n",
    "\n",
    "if __name__ == '__main__':\n",
    "    led_flush(PORT, WAIT_SEC, NUM_OF_FLASHES)\n",
    "    print('done.')"
   ]
  }
 ],
 "metadata": {
  "kernelspec": {
   "display_name": "Python 3",
   "language": "python",
   "name": "python3"
  },
  "language_info": {
   "codemirror_mode": {
    "name": "ipython",
    "version": 3
   },
   "file_extension": ".py",
   "mimetype": "text/x-python",
   "name": "python",
   "nbconvert_exporter": "python",
   "pygments_lexer": "ipython3",
   "version": "3.7.3"
  }
 },
 "nbformat": 4,
 "nbformat_minor": 2
}
