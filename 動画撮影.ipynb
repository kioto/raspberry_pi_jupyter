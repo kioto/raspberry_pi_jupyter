{
 "cells": [
  {
   "cell_type": "code",
   "execution_count": null,
   "metadata": {},
   "outputs": [],
   "source": [
    "#\n",
    "# 動画を保存\n",
    "#\n",
    "import picamera\n",
    "import time\n",
    "import sys\n",
    "\n",
    "FILENAME_H264 = 'video.h264'\n",
    "MOVIE_INTERVAL = 5  # [sec]\n",
    "\n",
    "def record_video(filename, interval):\n",
    "    with picamera.PiCamera() as camera:\n",
    "        camera.hflip = True\n",
    "        camera.vflip = True\n",
    "        camera.resolution = (1024,768)\n",
    "        camera.brightness = 70\n",
    "        camera.start_recording(filename)\n",
    "        time.sleep(interval)\n",
    "        camera.stop_recording()\n",
    "\n",
    "if __name__ == '__main__':\n",
    "    print('start...')\n",
    "    record_video(FILENAME_H264, MOVIE_INTERVAL)\n",
    "    print('done.')"
   ]
  },
  {
   "cell_type": "code",
   "execution_count": null,
   "metadata": {},
   "outputs": [],
   "source": [
    "# MP4に変換\n",
    "!ffmpeg -y -i video.h264 video.mp4"
   ]
  },
  {
   "cell_type": "code",
   "execution_count": null,
   "metadata": {},
   "outputs": [],
   "source": [
    "#\n",
    "# MP4再生\n",
    "#\n",
    "import io\n",
    "import base64\n",
    "from IPython.display import HTML\n",
    "\n",
    "FILENAME_MP4 = 'video.mp4'\n",
    "\n",
    "video = io.open(FILENAME_MP4, 'r+b').read()\n",
    "encoded = base64.b64encode(video)\n",
    "HTML(data='''<video alt=\"test\" controls>\n",
    "                <source src=\"data:video/mp4;base64,{0}\" type=\"video/mp4\" />\n",
    "             </video>'''.format(encoded.decode('ascii')))"
   ]
  }
 ],
 "metadata": {
  "kernelspec": {
   "display_name": "Python 3",
   "language": "python",
   "name": "python3"
  },
  "language_info": {
   "codemirror_mode": {
    "name": "ipython",
    "version": 3
   },
   "file_extension": ".py",
   "mimetype": "text/x-python",
   "name": "python",
   "nbconvert_exporter": "python",
   "pygments_lexer": "ipython3",
   "version": "3.7.3"
  }
 },
 "nbformat": 4,
 "nbformat_minor": 2
}
